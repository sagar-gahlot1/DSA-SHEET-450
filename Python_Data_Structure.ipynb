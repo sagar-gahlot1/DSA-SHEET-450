{
  "nbformat": 4,
  "nbformat_minor": 0,
  "metadata": {
    "colab": {
      "name": "Python Data Structure.ipynb",
      "provenance": [],
      "collapsed_sections": [],
      "authorship_tag": "ABX9TyMpwQL6YCdMAvf5UbQiLJkX",
      "include_colab_link": true
    },
    "kernelspec": {
      "name": "python3",
      "display_name": "Python 3"
    },
    "language_info": {
      "name": "python"
    }
  },
  "cells": [
    {
      "cell_type": "markdown",
      "metadata": {
        "id": "view-in-github",
        "colab_type": "text"
      },
      "source": [
        "<a href=\"https://colab.research.google.com/github/sagar-gahlot1/DSA-SHEET-450/blob/main/Python_Data_Structure.ipynb\" target=\"_parent\"><img src=\"https://colab.research.google.com/assets/colab-badge.svg\" alt=\"Open In Colab\"/></a>"
      ]
    },
    {
      "cell_type": "markdown",
      "source": [
        "Python Data Structure"
      ],
      "metadata": {
        "id": "yzAdhX36NgHl"
      }
    },
    {
      "cell_type": "markdown",
      "source": [
        "https://colab.research.google.com/drive/1HNzdVv6d3lmWixj0AwtNAg5zDTzNrAUY#scrollTo=3VZD0vhQiCKj"
      ],
      "metadata": {
        "id": "3VZD0vhQiCKj"
      }
    },
    {
      "cell_type": "markdown",
      "source": [
        "**Built-in Functions**"
      ],
      "metadata": {
        "id": "prov1LqR3EOM"
      }
    },
    {
      "cell_type": "code",
      "source": [
        "https://www.w3schools.com/python/python_ref_functions.asp"
      ],
      "metadata": {
        "id": "pCuFFSxG3IHo"
      },
      "execution_count": null,
      "outputs": []
    },
    {
      "cell_type": "code",
      "execution_count": null,
      "metadata": {
        "colab": {
          "base_uri": "https://localhost:8080/"
        },
        "id": "Go3q2g6oNBmh",
        "outputId": "0055ac3a-6b82-4f0f-fa81-934256c8bcd3"
      },
      "outputs": [
        {
          "output_type": "stream",
          "name": "stdout",
          "text": [
            "<class 'list'>\n",
            "<class 'tuple'>\n",
            "<class 'dict'>\n",
            "<class 'set'>\n"
          ]
        }
      ],
      "source": [
        "list=[]\n",
        "t = ()\n",
        "d=dict()\n",
        "s=set()\n",
        "print(type(list))\n",
        "print(type(t))\n",
        "print(type(d))\n",
        "print(type(s))"
      ]
    },
    {
      "cell_type": "markdown",
      "source": [
        "**List**"
      ],
      "metadata": {
        "id": "ry9vKgwORRyv"
      }
    },
    {
      "cell_type": "code",
      "source": [
        "a=[]\n",
        "a.append(10)                  # to add a element\n",
        "a.count(10)                   # to count an element\n",
        "a.extend([20,30,40])          # to extend a list\n",
        "a.index(30)                   # to get index\n",
        "a.insert(0,50)                # to insert an element at desired position\n",
        "a.pop()                       # to delete last element\n",
        "a.remove(50)                  # to remove a specific element\n",
        "a.reverse()                   # to reverse a list  \n",
        "a.sort()                      # to sort a list\n",
        "c=a.copy()                    # to copy a list\n",
        "k = [\"b\", \"g\", \"a\", \"d\", \"f\", \"c\", \"h\", \"e\"]\n",
        "x = sorted(k)\n",
        "''.join(x)\n",
        "for i in reversed(k):\n",
        "   pass\n",
        "for i in enumerate(k):\n",
        "   pass\n",
        "a.clear()                     # to clear list\n",
        "\n",
        "https://www.w3schools.com/python/python_ref_functions.asp\n"
      ],
      "metadata": {
        "id": "SVwHncRSRUIv"
      },
      "execution_count": null,
      "outputs": []
    },
    {
      "cell_type": "markdown",
      "source": [
        "**Tuple**"
      ],
      "metadata": {
        "id": "IuinCsMzxn1V"
      }
    },
    {
      "cell_type": "code",
      "source": [
        "t=(10,20,30,40)\n",
        "t.count(40)       # count element in tuple\n",
        "t.index(30)       # give index of an element"
      ],
      "metadata": {
        "colab": {
          "base_uri": "https://localhost:8080/"
        },
        "id": "9Yp2Qwiixqzx",
        "outputId": "4a62a7bd-0bd6-430d-eac1-b404533474c4"
      },
      "execution_count": 24,
      "outputs": [
        {
          "output_type": "execute_result",
          "data": {
            "text/plain": [
              "2"
            ]
          },
          "metadata": {},
          "execution_count": 24
        }
      ]
    },
    {
      "cell_type": "markdown",
      "source": [
        "**Dictionary**"
      ],
      "metadata": {
        "id": "bRZgdvPMyY57"
      }
    },
    {
      "cell_type": "code",
      "source": [
        "dict = {\n",
        "  \"brand\": \"Ford\",\n",
        "  \"model\": \"Mustang\",\n",
        "  \"year\": 1964,\n",
        "}\n",
        "a=[10,20,30,40,40,50,60,70,70,70]\n",
        "k=dict.fromkeys(a,0)                  # to create dict from iterator\n",
        "print(dict.get(\"model\"))\n",
        "print(dict.items())                   # Returns a list containing a tuple for each key value pair\n",
        "print(dict.keys())\n",
        "print(dict.values())\n",
        "dict.pop(\"model\")\n",
        "dict.popitem()                        # delete last inserted key value\n",
        "dict.setdefault(\"color\", \"white\")     # Returns the value of the specified key. If the key does not exist: insert the key, with the specified value\n",
        "dict.update({\"color\": \"White\"})       # Updates the dictionary with the specified key-value pairs\n",
        "print(dict)\n",
        "x=dict.copy()                         # to copy dict\n",
        "dict.clear()                          # to clear dict\n"
      ],
      "metadata": {
        "colab": {
          "base_uri": "https://localhost:8080/"
        },
        "id": "2dtVBQWCyexp",
        "outputId": "c201d21b-7d48-4f13-9406-b33db2a40f4e"
      },
      "execution_count": 37,
      "outputs": [
        {
          "output_type": "stream",
          "name": "stdout",
          "text": [
            "Mustang\n",
            "dict_items([('brand', 'Ford'), ('model', 'Mustang'), ('year', 1964)])\n",
            "dict_keys(['brand', 'model', 'year'])\n",
            "dict_values(['Ford', 'Mustang', 1964])\n",
            "{'brand': 'Ford', 'color': 'White'}\n"
          ]
        }
      ]
    },
    {
      "cell_type": "markdown",
      "source": [
        "**Set**\n"
      ],
      "metadata": {
        "id": "Cm70dB6Y2JNU"
      }
    },
    {
      "cell_type": "code",
      "source": [
        "https://www.w3schools.com/python/python_ref_set.asp"
      ],
      "metadata": {
        "id": "9t8hSX_Y2LO6"
      },
      "execution_count": null,
      "outputs": []
    },
    {
      "cell_type": "markdown",
      "source": [
        "**String**"
      ],
      "metadata": {
        "id": "raPYUOFL2zpR"
      }
    },
    {
      "cell_type": "code",
      "source": [
        "https://www.w3schools.com/python/python_ref_set.asp"
      ],
      "metadata": {
        "id": "07QS8_Zs22Oy"
      },
      "execution_count": null,
      "outputs": []
    },
    {
      "cell_type": "markdown",
      "source": [
        "**Stack**"
      ],
      "metadata": {
        "id": "61qDu688PxUQ"
      }
    },
    {
      "cell_type": "code",
      "source": [
        "stack=[]\n",
        "n=5\n",
        "def push(n):\n",
        "  if(len(stack)==n):\n",
        "    print(\"stack is full!\")\n",
        "    return 1  \n",
        "  element=input(\"Enter the element: \")\n",
        "  stack.append(element)\n",
        "  n+=1\n",
        "  print(stack)\n",
        "def pop_element(n):\n",
        "  if(not stack):\n",
        "    print(\"Stack is empty\")\n",
        "  else:\n",
        "    e=stack.pop()\n",
        "    print(\"Element removed: \",e)\n",
        "    n-=1\n",
        "    print(stack)\n",
        "while True:\n",
        "  print(\"select the operation 1. push 2. pop 3.quit\")\n",
        "  choice=int(input())\n",
        "  if(choice==1):\n",
        "    push(n)\n",
        "  elif(choice==2):\n",
        "    pop_element(n)\n",
        "  elif(choice==3):\n",
        "    break\n",
        "  else:\n",
        "    print(\"Enter the correcct operation!\")      "
      ],
      "metadata": {
        "id": "OcVICIBSP1kb"
      },
      "execution_count": null,
      "outputs": []
    },
    {
      "cell_type": "code",
      "source": [
        "import collections \n",
        "stack=collections.deque()\n",
        "print(stack)\n",
        "stack.append(10)\n",
        "stack.append(20)\n",
        "stack.append(30)\n",
        "stack.pop()\n",
        "stack"
      ],
      "metadata": {
        "colab": {
          "base_uri": "https://localhost:8080/"
        },
        "id": "o9PTgyDbTZLp",
        "outputId": "1f9b0309-0cf7-4bfd-bbfc-20603c441704"
      },
      "execution_count": null,
      "outputs": [
        {
          "output_type": "stream",
          "name": "stdout",
          "text": [
            "deque([])\n"
          ]
        },
        {
          "output_type": "execute_result",
          "data": {
            "text/plain": [
              "deque([10, 20])"
            ]
          },
          "metadata": {},
          "execution_count": 19
        }
      ]
    },
    {
      "cell_type": "code",
      "source": [
        "import queue\n",
        "stack=queue.LifoQueue(3)\n",
        "stack.put(10)\n",
        "stack.put(20)\n",
        "stack.put(30)\n",
        "stack.get(timeout=1)\n"
      ],
      "metadata": {
        "id": "31Ywldm3UPjd"
      },
      "execution_count": null,
      "outputs": []
    },
    {
      "cell_type": "markdown",
      "source": [
        "**Queue**"
      ],
      "metadata": {
        "id": "GSLdA5fMVbP9"
      }
    },
    {
      "cell_type": "code",
      "source": [
        "queue=[]\n",
        "def enqueue():\n",
        "  element=input(\"Enter the element: \")\n",
        "  queue.append(element)\n",
        "  print(element,\" is added to queue!\")\n",
        "def dequeue():\n",
        "  if not queue:\n",
        "    print(\"queue is empty\")\n",
        "  else:\n",
        "    e=queue.pop(0)\n",
        "    print(\"removed element: \",e)\n",
        "def display():\n",
        "  print(queue)\n",
        "while True:\n",
        "  print(\"select the operation 1. Add 2. Remove 3.display 4.quit\")\n",
        "  choice=int(input())\n",
        "  if(choice==1):\n",
        "    enqueue()\n",
        "  elif(choice==2):\n",
        "    dequeue()\n",
        "  elif(choice==3):\n",
        "    display()\n",
        "  elif(choice==4):\n",
        "    break  \n",
        "  else:\n",
        "    print(\"Enter the correct operation!\")   \n"
      ],
      "metadata": {
        "id": "1_KzO5iZVefU"
      },
      "execution_count": null,
      "outputs": []
    },
    {
      "cell_type": "code",
      "source": [
        "import collections\n",
        "q=collections.deque()\n",
        "q.appendleft(10)\n",
        "q.appendleft(20)\n",
        "q.appendleft(30)\n",
        "print(q)\n",
        "q.pop()"
      ],
      "metadata": {
        "colab": {
          "base_uri": "https://localhost:8080/"
        },
        "id": "javeUZm9cTLj",
        "outputId": "6b696997-fb04-4330-84a8-19faeadd9894"
      },
      "execution_count": null,
      "outputs": [
        {
          "output_type": "stream",
          "name": "stdout",
          "text": [
            "deque([30, 20, 10])\n"
          ]
        },
        {
          "output_type": "execute_result",
          "data": {
            "text/plain": [
              "10"
            ]
          },
          "metadata": {},
          "execution_count": 9
        }
      ]
    },
    {
      "cell_type": "code",
      "source": [
        "import collections\n",
        "q=collections.deque()\n",
        "q.append(10)\n",
        "q.append(20)\n",
        "q.append(30)\n",
        "print(q)\n",
        "q.popleft()\n",
        "not q     # to check empty queue"
      ],
      "metadata": {
        "colab": {
          "base_uri": "https://localhost:8080/"
        },
        "id": "_fJecFjBdKpi",
        "outputId": "88aaff30-d1ea-4f19-fd3d-0fd952fe73a9"
      },
      "execution_count": null,
      "outputs": [
        {
          "output_type": "stream",
          "name": "stdout",
          "text": [
            "deque([10, 20, 30])\n"
          ]
        },
        {
          "output_type": "execute_result",
          "data": {
            "text/plain": [
              "False"
            ]
          },
          "metadata": {},
          "execution_count": 12
        }
      ]
    },
    {
      "cell_type": "code",
      "source": [
        "import queue\n",
        "q=queue.Queue(3)\n",
        "q.put(10)\n",
        "q.put(20)\n",
        "q.put(30)\n",
        "q.get()\n",
        "q.get()\n",
        "q.put(40)\n",
        "q.queue"
      ],
      "metadata": {
        "colab": {
          "base_uri": "https://localhost:8080/"
        },
        "id": "unMTZ0ftdvOW",
        "outputId": "bac44790-eaf2-48c8-bb2c-d417fe7a40f5"
      },
      "execution_count": null,
      "outputs": [
        {
          "output_type": "execute_result",
          "data": {
            "text/plain": [
              "deque([30, 40])"
            ]
          },
          "metadata": {},
          "execution_count": 16
        }
      ]
    },
    {
      "cell_type": "code",
      "source": [
        "import queue\n",
        "q=queue.PriorityQueue()\n",
        "q.put(10)\n",
        "q.put(50)\n",
        "q.put(20)\n",
        "q.put(40)\n",
        "q.put(40)\n",
        "q.put(30)\n",
        "q.get()             # remove according to priority\n",
        "q.get() \n",
        "print(q.queue)"
      ],
      "metadata": {
        "colab": {
          "base_uri": "https://localhost:8080/"
        },
        "id": "9rDJFpIXf5Z8",
        "outputId": "7ebd659f-4898-444e-d8b7-6037215b437e"
      },
      "execution_count": null,
      "outputs": [
        {
          "output_type": "stream",
          "name": "stdout",
          "text": [
            "[30, 40, 40, 50]\n"
          ]
        }
      ]
    },
    {
      "cell_type": "code",
      "source": [
        "import queue\n",
        "q=queue.PriorityQueue()\n",
        "q.put((6,\"alexa\"))\n",
        "q.put((4,\"alex\"))\n",
        "q.put((2,\"yo\"))\n",
        "q.queue\n",
        "q.get()"
      ],
      "metadata": {
        "colab": {
          "base_uri": "https://localhost:8080/"
        },
        "id": "c402Jej0g1hU",
        "outputId": "66e98c86-254c-4743-9d3a-c1701fe47cb2"
      },
      "execution_count": null,
      "outputs": [
        {
          "output_type": "execute_result",
          "data": {
            "text/plain": [
              "(2, 'yo')"
            ]
          },
          "metadata": {},
          "execution_count": 26
        }
      ]
    },
    {
      "cell_type": "markdown",
      "source": [
        "**Linked List**"
      ],
      "metadata": {
        "id": "Wr86iGcJMvyA"
      }
    },
    {
      "cell_type": "code",
      "source": [
        "#       Single Linked List\n",
        "\n",
        "class Node:\n",
        "  def __init__(self,data):\n",
        "    self.data=data\n",
        "    self.ref=None\n",
        "\n",
        "class LinkedList:\n",
        "  def __init__(self):\n",
        "    self.head=None\n",
        "  \n",
        "  def print_LL(self):\n",
        "    if(self.head is None):\n",
        "      print(\"Linked list is empty\") \n",
        "    else:\n",
        "      n=self.head\n",
        "      while n is not None:\n",
        "        print(\"-->\",n.data,end='')\n",
        "        n=n.ref      \n",
        "\n",
        "  def add_begin(self,data):\n",
        "    new_node=Node(data)\n",
        "    new_node.ref=self.head\n",
        "    self.head=new_node\n",
        "\n",
        "  def add_end(self,data):\n",
        "    new_node=Node(data)\n",
        "    if(self.head is None):\n",
        "      self.head=new_node\n",
        "    else:\n",
        "      n=self.head\n",
        "      while n.ref is not None:\n",
        "        n=n.ref\n",
        "      n.ref=new_node  \n",
        "\n",
        "  def add_after(self,data,x):\n",
        "    n=self.head\n",
        "    while n is not None:\n",
        "      if(x==n.data):\n",
        "        break\n",
        "      n=n.ref\n",
        "    if(n is None):\n",
        "      print(\"node is not present in linked list\")\n",
        "    else:\n",
        "      new_node=Node(data) \n",
        "      new_node.ref=n.ref\n",
        "      n.ref=new_node\n",
        "  \n",
        "  \n",
        "  def add_before(self,data,x):\n",
        "    if(self.head is None):\n",
        "      print(\"Linked List is empty!\")\n",
        "      return\n",
        "    if(self.head.data==x):\n",
        "      new_node=Node(data)\n",
        "      new_node.ref=self.head\n",
        "      self.head=new_node\n",
        "      return\n",
        "    n=self.head\n",
        "    while n.ref is not None:\n",
        "      if(n.ref.data==x):\n",
        "        break    \n",
        "      n=n.ref\n",
        "    if(n.ref is None):\n",
        "      print(\"Node is not found\")\n",
        "    else:\n",
        "      new_node=Node(data)\n",
        "      new_node.ref=n.ref\n",
        "      n.ref=new_node\n",
        "\n",
        "  def delete_begin(self):\n",
        "    if(self.head is None):\n",
        "      print(\"LL is empty So  we can delete nodes!\")\n",
        "    else:\n",
        "      self.head=self.head.ref \n",
        "\n",
        "\n",
        "  def delete_end(self):\n",
        "    if(self.head is None):\n",
        "      print(\"LL is empty So  we can delete nodes!\")\n",
        "    elif(self.head.ref is None):\n",
        "      self.head=None  \n",
        "    else:\n",
        "      n=self.head\n",
        "      while n.ref.ref is not None:\n",
        "        n=n.ref\n",
        "      n.ref=None\n",
        "\n",
        "  def delete_by_value(self,x):\n",
        "    if(self.head is None):\n",
        "      print(\"can't delete LL is empty\") \n",
        "    if(x==self.head.data):\n",
        "      self.head=self.head.ref\n",
        "      return     \n",
        "    n=self.head\n",
        "    while n.ref is None:\n",
        "      if(x==n.ref.data):\n",
        "        break\n",
        "      n=n.ref \n",
        "    if(n.ref is None):\n",
        "      print(\"Node is not present\")  \n",
        "    else:\n",
        "      n.ref=n.ref.ref     \n",
        "\n",
        "LL1=LinkedList()\n",
        "LL1.add_begin(10)\n",
        "LL1.add_begin(20)\n",
        "LL1.add_end(30)\n",
        "LL1.add_before(60,20)\n",
        "LL1.delete_begin()\n",
        "LL1.add_after(50,20)\n",
        "LL1.delete_end()\n",
        "LL1.delete_by_value(50)\n",
        "LL1.print_LL()"
      ],
      "metadata": {
        "colab": {
          "base_uri": "https://localhost:8080/"
        },
        "id": "R2ULozB5MzZt",
        "outputId": "8299c014-bbdd-4c90-e527-32d16dd2b19f"
      },
      "execution_count": null,
      "outputs": [
        {
          "output_type": "stream",
          "name": "stdout",
          "text": [
            "--> 20--> 10"
          ]
        }
      ]
    },
    {
      "cell_type": "markdown",
      "source": [
        "**Doubly Linked List**"
      ],
      "metadata": {
        "id": "eBH8OTNP0MXa"
      }
    },
    {
      "cell_type": "code",
      "source": [
        "class Node:\n",
        "  def __init__(self,data):\n",
        "    self.data=data\n",
        "    self.nref=None\n",
        "    self.pref=None\n",
        "class doublyLL:\n",
        "  def __init__(self):\n",
        "    self.head=None\n",
        "\n",
        "  def print_LL(self):\n",
        "    if(self.head is None):\n",
        "      print(\"Linked list is empty\") \n",
        "    else:\n",
        "      n=self.head\n",
        "      while n is not None:\n",
        "        print(\"-->\",n.data,end='')\n",
        "        n=n.nref \n",
        "\n",
        "  def print_LL_reverse(self):\n",
        "    if(self.head is None):\n",
        "      print(\"Linked list is empty\") \n",
        "    else:\n",
        "      n=self.head\n",
        "      while n.nref is not None:\n",
        "        n=n.nref       \n",
        "      while n is not None:\n",
        "        print(n.data,\"-->\",end='')\n",
        "        n=n.pref\n",
        "\n",
        "  def insert_empty(self,data):\n",
        "     if(self.head is None):\n",
        "       new_node=Node(data)\n",
        "       self.head=new_node\n",
        "     else:\n",
        "       print(\"Linked List is not empty!\") \n",
        "\n",
        "  def add_begin(self,data):\n",
        "    new_node=Node(data)\n",
        "    if(self.head is None):\n",
        "      self.head=new_node\n",
        "    else:\n",
        "      new_node.nref=self.head\n",
        "      self.head.pref=new_node\n",
        "      self.head=new_node\n",
        "\n",
        "  def add_end(self,data):\n",
        "    new_node=Node(data)\n",
        "    if(self.head is None):\n",
        "      self.head=new_node\n",
        "    else:\n",
        "      n=self.head\n",
        "      while(n.nref is not None):\n",
        "        n=n.nref\n",
        "      n.nref=new_node\n",
        "      new_node.pref=n  \n",
        "  \n",
        "  def add_after(self,data,x):\n",
        "    if self.head is None:\n",
        "      print(\"LL is empty!\")\n",
        "    else:\n",
        "      n=self.head\n",
        "      while n is not None:\n",
        "        if(x==n.data):\n",
        "          break\n",
        "        n=n.nref\n",
        "      if(n is None):\n",
        "        print(\"Given Node is not present in DLL\")\n",
        "      else:\n",
        "        new_node=Node(data)\n",
        "        new_node.nref=n.nref\n",
        "        new_node.pref=n\n",
        "        if(n.nref is not None):\n",
        "          n.nref.pref=new_node\n",
        "        n.nref=new_node \n",
        "\n",
        "  def add_before(self,data,x):\n",
        "    if self.head is None:\n",
        "      print(\"LL is empty!\")\n",
        "    else:\n",
        "      n=self.head\n",
        "      while n is not None:\n",
        "        if(x==n.data):\n",
        "          break\n",
        "        n=n.nref\n",
        "      if(n is None):\n",
        "        print(\"Given Node is not present in DLL\")\n",
        "      else:\n",
        "        new_node=Node(data)\n",
        "        new_node.nref=n\n",
        "        new_node.pref=n.pref\n",
        "        if(n.pref is not None):\n",
        "          n.pref.nref=new_node\n",
        "        else:\n",
        "          self.head=new_node  \n",
        "        n.pref=new_node\n",
        "\n",
        "  def delete_begin(self):\n",
        "    if(self.head is None):\n",
        "      print(\"DLL is empty can't delete!\")\n",
        "      return\n",
        "    if(self.head.nref is None):\n",
        "      self.head=None \n",
        "      print(\"DLL is empty after deleting the node!\")\n",
        "    else:\n",
        "      self.head=self.head.nref\n",
        "      self.head.pref=None\n",
        "\n",
        "\n",
        "  def delete_end(self):\n",
        "    if(self.head is None):\n",
        "      print(\"DLL is empty can't delete!\")\n",
        "      return\n",
        "    if(self.head.nref is None):\n",
        "      self.head=None \n",
        "      print(\"DLL is empty after deleting the node!\")\n",
        "    else:\n",
        "      n=self.head\n",
        "      while(n.nref is not None):\n",
        "        n=n.nref\n",
        "      n.pref.nref=None  \n",
        "\n",
        "\n",
        "\n",
        "  def delete_by_value(self,x):\n",
        "    if(self.head is None):\n",
        "      print(\"DLL is empty can't delete!\")\n",
        "      return\n",
        "    if(self.head.nref is None):\n",
        "      if(x==self.head.data):\n",
        "        self.head=None\n",
        "      else:\n",
        "        print(\"x is not present in DLL\")\n",
        "      return \n",
        "    if(self.head.data==x):\n",
        "      self.head=self.head.nref\n",
        "      self.head.pref=None\n",
        "      return      \n",
        "    n=self.head\n",
        "    while(n.nref is not None):\n",
        "      if(x==n.data):\n",
        "        break\n",
        "      n=n.nref\n",
        "    if(n.nref is not None):\n",
        "      n.nref.pref=n.pref\n",
        "      n.pref.nref=n.nref\n",
        "    else:\n",
        "      if(n.data==x):\n",
        "        n.pref.nref=None \n",
        "      else:\n",
        "        print(\"x is not present in DLL!\")           \n",
        "\n",
        "\n",
        "d=doublyLL()\n",
        "d.insert_empty(10)\n",
        "d.add_begin(20)\n",
        "d.add_end(30)\n",
        "d.add_after(11,10)\n",
        "d.add_before(22,20)\n",
        "d.delete_begin()\n",
        "d.delete_end()\n",
        "d.delete_by_value(10)\n",
        "d.print_LL()\n"
      ],
      "metadata": {
        "colab": {
          "base_uri": "https://localhost:8080/"
        },
        "id": "GqOzz7X30SLF",
        "outputId": "09ad5bc6-1961-4c48-db5a-c44876914280"
      },
      "execution_count": null,
      "outputs": [
        {
          "output_type": "stream",
          "name": "stdout",
          "text": [
            "--> 20--> 11"
          ]
        }
      ]
    },
    {
      "cell_type": "markdown",
      "source": [
        "**Circular Linked List**"
      ],
      "metadata": {
        "id": "huvRhUuviFa4"
      }
    },
    {
      "cell_type": "code",
      "source": [
        ""
      ],
      "metadata": {
        "id": "zw7CohP7iMs1"
      },
      "execution_count": null,
      "outputs": []
    },
    {
      "cell_type": "markdown",
      "source": [
        "**Binary Search Tree**"
      ],
      "metadata": {
        "id": "rugShgD-Fgoa"
      }
    },
    {
      "cell_type": "code",
      "source": [
        "class BST:\n",
        "  def __init__(self,key):\n",
        "    self.key=key\n",
        "    self.lchild=None\n",
        "    self.rchild=None\n",
        "  def insert(self,data):\n",
        "    if(self.key is None):\n",
        "      self.key=data\n",
        "      return\n",
        "    if(self.key==data):\n",
        "      return  \n",
        "    if(self.key>data):\n",
        "      if(self.lchild):\n",
        "        self.lchild.insert(data)\n",
        "      else:\n",
        "        self.lchild=BST(data)\n",
        "    else:\n",
        "      if(self.rchild):\n",
        "        self.rchild.insert(data)\n",
        "      else:\n",
        "        self.rchild=BST(data)\n",
        "\n",
        "  def search(self,data):\n",
        "    if(self.key == data):\n",
        "      print(\"Node is present\")\n",
        "      return\n",
        "    if(data<self.key):\n",
        "      if(self.lchild):\n",
        "        self.lchild.search(data)\n",
        "      else:\n",
        "        print(\"Node is not present\")  \n",
        "    else:\n",
        "      if(self.rchild):\n",
        "        self.rchild.search(data)\n",
        "      else:\n",
        "        print(\"Node is not present\")      \n",
        "\n",
        "  def preorder(self):\n",
        "    print(self.key,end=' ')\n",
        "    if(self.lchild):\n",
        "      self.lchild.preorder()\n",
        "    if(self.rchild):\n",
        "      self.rchild.preorder()  \n",
        "\n",
        "  def inorder(self):\n",
        "    if(self.lchild):\n",
        "      self.lchild.inorder()\n",
        "    print(self.key,end=' ')\n",
        "    if(self.rchild):\n",
        "      self.rchild.inorder()\n",
        "\n",
        "  def postorder(self):\n",
        "    if(self.lchild):\n",
        "      self.lchild.postorder()\n",
        "    if(self.rchild):\n",
        "      self.rchild.postorder()\n",
        "    print(self.key,end=' ')  \n",
        "\n",
        "  def delete(self,data,curr):\n",
        "    if self.key is None:\n",
        "      print(\"Tree is empty!\") \n",
        "      return\n",
        "    if(data<self.key):\n",
        "      if(self.lchild):\n",
        "        self.lchild=self.lchild.delete(data)\n",
        "      else:\n",
        "        print(\"Given Node is Not present in the tree\")\n",
        "    elif(data>self.key):\n",
        "      if(self.rchild):\n",
        "        self.rchild=self.rchild.delete(data,root.key)\n",
        "      else:\n",
        "        print(\"Given Node is Not present in the tree\")\n",
        "    else:\n",
        "      if(self.lchild is None):\n",
        "        temp=self.rchild\n",
        "        if(data==curr):\n",
        "          self.key=temp.key\n",
        "          self.lchild=temp.lchild\n",
        "          self.rchild=temp.rchild\n",
        "          temp=None\n",
        "          return \n",
        "        self=None\n",
        "        return temp\n",
        "      if(self.rchild is None):\n",
        "        temp=self.lchild\n",
        "        if(data==curr):\n",
        "          self.key=temp.key\n",
        "          self.lchild=temp.lchild\n",
        "          self.rchild=temp.rchild\n",
        "          temp=None\n",
        "          return\n",
        "        self=None\n",
        "        return temp\n",
        "      node=self.rchild\n",
        "      while node.lchild:\n",
        "        node=node.lchild    \n",
        "      self.key=node.key\n",
        "      self.rchild=self.rchild.delete(node.key,root.key)\n",
        "    return self  \n",
        "\n",
        "  def min_node(self):\n",
        "    curr=self\n",
        "    while curr.lchild:\n",
        "      curr=curr.lchild\n",
        "    print(\"Node with minimum key is: \",curr.key)  \n",
        "\n",
        "  def max_node(self):\n",
        "    curr=self\n",
        "    while curr.rchild:\n",
        "      curr=curr.rchild\n",
        "    print(\"Node with maximum key is: \",curr.key)  \n",
        "\n",
        "\n",
        "\n",
        "\n",
        "\n",
        "def count(node):\n",
        "  if(node is None):\n",
        "    return 0\n",
        "  return 1+count(node.lchild)+count(node.rchild)  \n",
        "\n",
        "\n",
        "root=BST(None)\n",
        "list=[4,7,6]\n",
        "for i in list:\n",
        "  root.insert(i)\n",
        "root.search(20)  \n",
        "root.preorder()\n",
        "print()\n",
        "root.inorder()\n",
        "print()\n",
        "root.postorder()\n",
        "if(count(root)>1):\n",
        "  root.delete(7,root.key)\n",
        "else:\n",
        "  print(\"Can't perform the deletion operation\")\n",
        "print(\"\\nAfter deletion\")\n",
        "root.postorder()   \n",
        "print(\"\\ncount=\",count(root))\n",
        "root.max_node()\n",
        "root.min_node()\n",
        "\n"
      ],
      "metadata": {
        "colab": {
          "base_uri": "https://localhost:8080/"
        },
        "id": "ziZ0A_fOFozV",
        "outputId": "d8e7db18-a26a-46fa-ef09-9ea733ac2b09"
      },
      "execution_count": 16,
      "outputs": [
        {
          "output_type": "stream",
          "name": "stdout",
          "text": [
            "Node is not present\n",
            "4 7 6 \n",
            "4 6 7 \n",
            "6 7 4 \n",
            "After deletion\n",
            "6 4 \n",
            "count= 2\n",
            "Node with maximum key is:  6\n",
            "Node with minimum key is:  4\n"
          ]
        }
      ]
    }
  ]
}
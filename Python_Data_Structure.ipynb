{
  "nbformat": 4,
  "nbformat_minor": 0,
  "metadata": {
    "colab": {
      "name": "Python Data Structure.ipynb",
      "provenance": [],
      "collapsed_sections": [],
      "authorship_tag": "ABX9TyMHruHnyd/R0S8ejFCfrgon",
      "include_colab_link": true
    },
    "kernelspec": {
      "name": "python3",
      "display_name": "Python 3"
    },
    "language_info": {
      "name": "python"
    }
  },
  "cells": [
    {
      "cell_type": "markdown",
      "metadata": {
        "id": "view-in-github",
        "colab_type": "text"
      },
      "source": [
        "<a href=\"https://colab.research.google.com/github/sagar-gahlot1/DSA-SHEET-450/blob/main/Python_Data_Structure.ipynb\" target=\"_parent\"><img src=\"https://colab.research.google.com/assets/colab-badge.svg\" alt=\"Open In Colab\"/></a>"
      ]
    },
    {
      "cell_type": "markdown",
      "source": [
        "Python Data Structure"
      ],
      "metadata": {
        "id": "yzAdhX36NgHl"
      }
    },
    {
      "cell_type": "markdown",
      "source": [
        "https://colab.research.google.com/drive/1HNzdVv6d3lmWixj0AwtNAg5zDTzNrAUY#scrollTo=3VZD0vhQiCKj"
      ],
      "metadata": {
        "id": "3VZD0vhQiCKj"
      }
    },
    {
      "cell_type": "code",
      "execution_count": null,
      "metadata": {
        "colab": {
          "base_uri": "https://localhost:8080/"
        },
        "id": "Go3q2g6oNBmh",
        "outputId": "0055ac3a-6b82-4f0f-fa81-934256c8bcd3"
      },
      "outputs": [
        {
          "output_type": "stream",
          "name": "stdout",
          "text": [
            "<class 'list'>\n",
            "<class 'tuple'>\n",
            "<class 'dict'>\n",
            "<class 'set'>\n"
          ]
        }
      ],
      "source": [
        "list=[]\n",
        "t = ()\n",
        "d=dict()\n",
        "s=set()\n",
        "print(type(list))\n",
        "print(type(t))\n",
        "print(type(d))\n",
        "print(type(s))"
      ]
    },
    {
      "cell_type": "markdown",
      "source": [
        "**Stack**"
      ],
      "metadata": {
        "id": "61qDu688PxUQ"
      }
    },
    {
      "cell_type": "code",
      "source": [
        "stack=[]\n",
        "n=5\n",
        "def push(n):\n",
        "  if(len(stack)==n):\n",
        "    print(\"stack is full!\")\n",
        "    return 1  \n",
        "  element=input(\"Enter the element: \")\n",
        "  stack.append(element)\n",
        "  n+=1\n",
        "  print(stack)\n",
        "def pop_element(n):\n",
        "  if(not stack):\n",
        "    print(\"Stack is empty\")\n",
        "  else:\n",
        "    e=stack.pop()\n",
        "    print(\"Element removed: \",e)\n",
        "    n-=1\n",
        "    print(stack)\n",
        "while True:\n",
        "  print(\"select the operation 1. push 2. pop 3.quit\")\n",
        "  choice=int(input())\n",
        "  if(choice==1):\n",
        "    push(n)\n",
        "  elif(choice==2):\n",
        "    pop_element(n)\n",
        "  elif(choice==3):\n",
        "    break\n",
        "  else:\n",
        "    print(\"Enter the correcct operation!\")      "
      ],
      "metadata": {
        "id": "OcVICIBSP1kb"
      },
      "execution_count": null,
      "outputs": []
    },
    {
      "cell_type": "code",
      "source": [
        "import collections \n",
        "stack=collections.deque()\n",
        "print(stack)\n",
        "stack.append(10)\n",
        "stack.append(20)\n",
        "stack.append(30)\n",
        "stack.pop()\n",
        "stack"
      ],
      "metadata": {
        "colab": {
          "base_uri": "https://localhost:8080/"
        },
        "id": "o9PTgyDbTZLp",
        "outputId": "1f9b0309-0cf7-4bfd-bbfc-20603c441704"
      },
      "execution_count": null,
      "outputs": [
        {
          "output_type": "stream",
          "name": "stdout",
          "text": [
            "deque([])\n"
          ]
        },
        {
          "output_type": "execute_result",
          "data": {
            "text/plain": [
              "deque([10, 20])"
            ]
          },
          "metadata": {},
          "execution_count": 19
        }
      ]
    },
    {
      "cell_type": "code",
      "source": [
        "import queue\n",
        "stack=queue.LifoQueue(3)\n",
        "stack.put(10)\n",
        "stack.put(20)\n",
        "stack.put(30)\n",
        "stack.get(timeout=1)\n"
      ],
      "metadata": {
        "id": "31Ywldm3UPjd"
      },
      "execution_count": null,
      "outputs": []
    },
    {
      "cell_type": "markdown",
      "source": [
        "**Queue**"
      ],
      "metadata": {
        "id": "GSLdA5fMVbP9"
      }
    },
    {
      "cell_type": "code",
      "source": [
        "queue=[]\n",
        "def enqueue():\n",
        "  element=input(\"Enter the element: \")\n",
        "  queue.append(element)\n",
        "  print(element,\" is added to queue!\")\n",
        "def dequeue():\n",
        "  if not queue:\n",
        "    print(\"queue is empty\")\n",
        "  else:\n",
        "    e=queue.pop(0)\n",
        "    print(\"removed element: \",e)\n",
        "def display():\n",
        "  print(queue)\n",
        "while True:\n",
        "  print(\"select the operation 1. Add 2. Remove 3.display 4.quit\")\n",
        "  choice=int(input())\n",
        "  if(choice==1):\n",
        "    enqueue()\n",
        "  elif(choice==2):\n",
        "    dequeue()\n",
        "  elif(choice==3):\n",
        "    display()\n",
        "  elif(choice==4):\n",
        "    break  \n",
        "  else:\n",
        "    print(\"Enter the correct operation!\")   \n"
      ],
      "metadata": {
        "id": "1_KzO5iZVefU"
      },
      "execution_count": null,
      "outputs": []
    },
    {
      "cell_type": "code",
      "source": [
        "import collections\n",
        "q=collections.deque()\n",
        "q.appendleft(10)\n",
        "q.appendleft(20)\n",
        "q.appendleft(30)\n",
        "print(q)\n",
        "q.pop()"
      ],
      "metadata": {
        "colab": {
          "base_uri": "https://localhost:8080/"
        },
        "id": "javeUZm9cTLj",
        "outputId": "6b696997-fb04-4330-84a8-19faeadd9894"
      },
      "execution_count": null,
      "outputs": [
        {
          "output_type": "stream",
          "name": "stdout",
          "text": [
            "deque([30, 20, 10])\n"
          ]
        },
        {
          "output_type": "execute_result",
          "data": {
            "text/plain": [
              "10"
            ]
          },
          "metadata": {},
          "execution_count": 9
        }
      ]
    },
    {
      "cell_type": "code",
      "source": [
        "import collections\n",
        "q=collections.deque()\n",
        "q.append(10)\n",
        "q.append(20)\n",
        "q.append(30)\n",
        "print(q)\n",
        "q.popleft()\n",
        "not q     # to check empty queue"
      ],
      "metadata": {
        "colab": {
          "base_uri": "https://localhost:8080/"
        },
        "id": "_fJecFjBdKpi",
        "outputId": "88aaff30-d1ea-4f19-fd3d-0fd952fe73a9"
      },
      "execution_count": null,
      "outputs": [
        {
          "output_type": "stream",
          "name": "stdout",
          "text": [
            "deque([10, 20, 30])\n"
          ]
        },
        {
          "output_type": "execute_result",
          "data": {
            "text/plain": [
              "False"
            ]
          },
          "metadata": {},
          "execution_count": 12
        }
      ]
    },
    {
      "cell_type": "code",
      "source": [
        "import queue\n",
        "q=queue.Queue(3)\n",
        "q.put(10)\n",
        "q.put(20)\n",
        "q.put(30)\n",
        "q.get()\n",
        "q.get()\n",
        "q.put(40)\n",
        "q.queue"
      ],
      "metadata": {
        "colab": {
          "base_uri": "https://localhost:8080/"
        },
        "id": "unMTZ0ftdvOW",
        "outputId": "bac44790-eaf2-48c8-bb2c-d417fe7a40f5"
      },
      "execution_count": null,
      "outputs": [
        {
          "output_type": "execute_result",
          "data": {
            "text/plain": [
              "deque([30, 40])"
            ]
          },
          "metadata": {},
          "execution_count": 16
        }
      ]
    },
    {
      "cell_type": "code",
      "source": [
        "import queue\n",
        "q=queue.PriorityQueue()\n",
        "q.put(10)\n",
        "q.put(50)\n",
        "q.put(20)\n",
        "q.put(40)\n",
        "q.put(40)\n",
        "q.put(30)\n",
        "q.get()             # remove according to priority\n",
        "q.get() \n",
        "print(q.queue)"
      ],
      "metadata": {
        "colab": {
          "base_uri": "https://localhost:8080/"
        },
        "id": "9rDJFpIXf5Z8",
        "outputId": "7ebd659f-4898-444e-d8b7-6037215b437e"
      },
      "execution_count": null,
      "outputs": [
        {
          "output_type": "stream",
          "name": "stdout",
          "text": [
            "[30, 40, 40, 50]\n"
          ]
        }
      ]
    },
    {
      "cell_type": "code",
      "source": [
        "import queue\n",
        "q=queue.PriorityQueue()\n",
        "q.put((6,\"alexa\"))\n",
        "q.put((4,\"alex\"))\n",
        "q.put((2,\"yo\"))\n",
        "q.queue\n",
        "q.get()"
      ],
      "metadata": {
        "colab": {
          "base_uri": "https://localhost:8080/"
        },
        "id": "c402Jej0g1hU",
        "outputId": "66e98c86-254c-4743-9d3a-c1701fe47cb2"
      },
      "execution_count": null,
      "outputs": [
        {
          "output_type": "execute_result",
          "data": {
            "text/plain": [
              "(2, 'yo')"
            ]
          },
          "metadata": {},
          "execution_count": 26
        }
      ]
    },
    {
      "cell_type": "markdown",
      "source": [
        "**Linked List**"
      ],
      "metadata": {
        "id": "Wr86iGcJMvyA"
      }
    },
    {
      "cell_type": "code",
      "source": [
        "#       Single Linked List\n",
        "\n",
        "class Node:\n",
        "  def __init__(self,data):\n",
        "    self.data=data\n",
        "    self.ref=None\n",
        "\n",
        "class LinkedList:\n",
        "  def __init__(self):\n",
        "    self.head=None\n",
        "  \n",
        "  def print_LL(self):\n",
        "    if(self.head is None):\n",
        "      print(\"Linked list is empty\") \n",
        "    else:\n",
        "      n=self.head\n",
        "      while n is not None:\n",
        "        print(\"-->\",n.data,end='')\n",
        "        n=n.ref      \n",
        "\n",
        "  def add_begin(self,data):\n",
        "    new_node=Node(data)\n",
        "    new_node.ref=self.head\n",
        "    self.head=new_node\n",
        "\n",
        "  def add_end(self,data):\n",
        "    new_node=Node(data)\n",
        "    if(self.head is None):\n",
        "      self.head=new_node\n",
        "    else:\n",
        "      n=self.head\n",
        "      while n.ref is not None:\n",
        "        n=n.ref\n",
        "      n.ref=new_node  \n",
        "\n",
        "  def add_after(self,data,x):\n",
        "    n=self.head\n",
        "    while n is not None:\n",
        "      if(x==n.data):\n",
        "        break\n",
        "      n=n.ref\n",
        "    if(n is None):\n",
        "      print(\"node is not present in linked list\")\n",
        "    else:\n",
        "      new_node=Node(data) \n",
        "      new_node.ref=n.ref\n",
        "      n.ref=new_node\n",
        "  \n",
        "  \n",
        "  def add_before(self,data,x):\n",
        "    if(self.head is None):\n",
        "      print(\"Linked List is empty!\")\n",
        "      return\n",
        "    if(self.head.data==x):\n",
        "      new_node=Node(data)\n",
        "      new_node.ref=self.head\n",
        "      self.head=new_node\n",
        "      return\n",
        "    n=self.head\n",
        "    while n.ref is not None:\n",
        "      if(n.ref.data==x):\n",
        "        break    \n",
        "      n=n.ref\n",
        "    if(n.ref is None):\n",
        "      print(\"Node is not found\")\n",
        "    else:\n",
        "      new_node=Node(data)\n",
        "      new_node.ref=n.ref\n",
        "      n.ref=new_node\n",
        "\n",
        "  def delete_begin(self):\n",
        "    if(self.head is None):\n",
        "      print(\"LL is empty So  we can delete nodes!\")\n",
        "    else:\n",
        "      self.head=self.head.ref \n",
        "\n",
        "\n",
        "  def delete_end(self):\n",
        "    if(self.head is None):\n",
        "      print(\"LL is empty So  we can delete nodes!\")\n",
        "    elif(self.head.ref is None):\n",
        "      self.head=None  \n",
        "    else:\n",
        "      n=self.head\n",
        "      while n.ref.ref is not None:\n",
        "        n=n.ref\n",
        "      n.ref=None\n",
        "\n",
        "  def delete_by_value(self,x):\n",
        "    if(self.head is None):\n",
        "      print(\"can't delete LL is empty\") \n",
        "    if(x==self.head.data):\n",
        "      self.head=self.head.ref\n",
        "      return     \n",
        "    n=self.head\n",
        "    while n.ref is None:\n",
        "      if(x==n.ref.data):\n",
        "        break\n",
        "      n=n.ref \n",
        "    if(n.ref is None):\n",
        "      print(\"Node is not present\")  \n",
        "    else:\n",
        "      n.ref=n.ref.ref     \n",
        "\n",
        "LL1=LinkedList()\n",
        "LL1.add_begin(10)\n",
        "LL1.add_begin(20)\n",
        "LL1.add_end(30)\n",
        "LL1.add_before(60,20)\n",
        "LL1.delete_begin()\n",
        "LL1.add_after(50,20)\n",
        "LL1.delete_end()\n",
        "LL1.delete_by_value(50)\n",
        "LL1.print_LL()"
      ],
      "metadata": {
        "colab": {
          "base_uri": "https://localhost:8080/"
        },
        "id": "R2ULozB5MzZt",
        "outputId": "8299c014-bbdd-4c90-e527-32d16dd2b19f"
      },
      "execution_count": null,
      "outputs": [
        {
          "output_type": "stream",
          "name": "stdout",
          "text": [
            "--> 20--> 10"
          ]
        }
      ]
    },
    {
      "cell_type": "markdown",
      "source": [
        "**Doubly Linked List**"
      ],
      "metadata": {
        "id": "eBH8OTNP0MXa"
      }
    },
    {
      "cell_type": "code",
      "source": [
        "class Node:\n",
        "  def __init__(self,data):\n",
        "    self.data=data\n",
        "    self.nref=None\n",
        "    self.pref=None\n",
        "class doublyLL:\n",
        "  def __init__(self):\n",
        "    self.head=None\n",
        "\n",
        "  def print_LL(self):\n",
        "    if(self.head is None):\n",
        "      print(\"Linked list is empty\") \n",
        "    else:\n",
        "      n=self.head\n",
        "      while n is not None:\n",
        "        print(\"-->\",n.data,end='')\n",
        "        n=n.nref \n",
        "\n",
        "  def print_LL_reverse(self):\n",
        "    if(self.head is None):\n",
        "      print(\"Linked list is empty\") \n",
        "    else:\n",
        "      n=self.head\n",
        "      while n.nref is not None:\n",
        "        n=n.nref       \n",
        "      while n is not None:\n",
        "        print(n.data,\"-->\",end='')\n",
        "        n=n.pref\n",
        "\n",
        "  def insert_empty(self,data):\n",
        "     if(self.head is None):\n",
        "       new_node=Node(data)\n",
        "       self.head=new_node\n",
        "     else:\n",
        "       print(\"Linked List is not empty!\") \n",
        "\n",
        "  def add_begin(self,data):\n",
        "    new_node=Node(data)\n",
        "    if(self.head is None):\n",
        "      self.head=new_node\n",
        "    else:\n",
        "      new_node.nref=self.head\n",
        "      self.head.pref=new_node\n",
        "      self.head=new_node\n",
        "\n",
        "  def add_end(self,data):\n",
        "    new_node=Node(data)\n",
        "    if(self.head is None):\n",
        "      self.head=new_node\n",
        "    else:\n",
        "      n=self.head\n",
        "      while(n.nref is not None):\n",
        "        n=n.nref\n",
        "      n.nref=new_node\n",
        "      new_node.pref=n    \n",
        "\n",
        "\n",
        "d=doublyLL()\n",
        "d.insert_empty(10)\n",
        "d.add_begin(20)\n",
        "d.add_end(30)\n",
        "d.print_LL()\n"
      ],
      "metadata": {
        "colab": {
          "base_uri": "https://localhost:8080/"
        },
        "id": "GqOzz7X30SLF",
        "outputId": "466904da-2766-456d-b3f9-ecfdf7a46cd2"
      },
      "execution_count": 5,
      "outputs": [
        {
          "output_type": "stream",
          "name": "stdout",
          "text": [
            "--> 20--> 10--> 30"
          ]
        }
      ]
    }
  ]
}
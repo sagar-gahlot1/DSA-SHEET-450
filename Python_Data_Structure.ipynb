{
  "nbformat": 4,
  "nbformat_minor": 0,
  "metadata": {
    "colab": {
      "name": "Python Data Structure.ipynb",
      "provenance": [],
      "authorship_tag": "ABX9TyPaV/2PU2HkaxQkCNkXTRqd",
      "include_colab_link": true
    },
    "kernelspec": {
      "name": "python3",
      "display_name": "Python 3"
    },
    "language_info": {
      "name": "python"
    }
  },
  "cells": [
    {
      "cell_type": "markdown",
      "metadata": {
        "id": "view-in-github",
        "colab_type": "text"
      },
      "source": [
        "<a href=\"https://colab.research.google.com/github/sagar-gahlot1/DSA-SHEET-450/blob/main/Python_Data_Structure.ipynb\" target=\"_parent\"><img src=\"https://colab.research.google.com/assets/colab-badge.svg\" alt=\"Open In Colab\"/></a>"
      ]
    },
    {
      "cell_type": "markdown",
      "source": [
        "Python Data Structure"
      ],
      "metadata": {
        "id": "yzAdhX36NgHl"
      }
    },
    {
      "cell_type": "code",
      "execution_count": 10,
      "metadata": {
        "colab": {
          "base_uri": "https://localhost:8080/"
        },
        "id": "Go3q2g6oNBmh",
        "outputId": "0055ac3a-6b82-4f0f-fa81-934256c8bcd3"
      },
      "outputs": [
        {
          "output_type": "stream",
          "name": "stdout",
          "text": [
            "<class 'list'>\n",
            "<class 'tuple'>\n",
            "<class 'dict'>\n",
            "<class 'set'>\n"
          ]
        }
      ],
      "source": [
        "list=[]\n",
        "t = ()\n",
        "d=dict()\n",
        "s=set()\n",
        "print(type(list))\n",
        "print(type(t))\n",
        "print(type(d))\n",
        "print(type(s))"
      ]
    },
    {
      "cell_type": "markdown",
      "source": [
        "**Stack**"
      ],
      "metadata": {
        "id": "61qDu688PxUQ"
      }
    },
    {
      "cell_type": "code",
      "source": [
        "stack=[]\n",
        "n=5\n",
        "def push(n):\n",
        "  if(len(stack)==n):\n",
        "    print(\"stack is full!\")\n",
        "    return 1  \n",
        "  element=input(\"Enter the element: \")\n",
        "  stack.append(element)\n",
        "  n+=1\n",
        "  print(stack)\n",
        "def pop_element(n):\n",
        "  if(not stack):\n",
        "    print(\"Stack is empty\")\n",
        "  else:\n",
        "    e=stack.pop()\n",
        "    print(\"Element removed: \",e)\n",
        "    n-=1\n",
        "    print(stack)\n",
        "while True:\n",
        "  print(\"select the operation 1. push 2. pop 3.quit\")\n",
        "  choice=int(input())\n",
        "  if(choice==1):\n",
        "    push(n)\n",
        "  elif(choice==2):\n",
        "    pop_element(n)\n",
        "  elif(choice==3):\n",
        "    break\n",
        "  else:\n",
        "    print(\"Enter the correcct operation!\")      "
      ],
      "metadata": {
        "id": "OcVICIBSP1kb"
      },
      "execution_count": null,
      "outputs": []
    },
    {
      "cell_type": "code",
      "source": [
        "import collections \n",
        "stack=collections.deque()\n",
        "print(stack)\n",
        "stack.append(10)\n",
        "stack.append(20)\n",
        "stack.append(30)\n",
        "stack.pop()\n",
        "stack"
      ],
      "metadata": {
        "colab": {
          "base_uri": "https://localhost:8080/"
        },
        "id": "o9PTgyDbTZLp",
        "outputId": "1f9b0309-0cf7-4bfd-bbfc-20603c441704"
      },
      "execution_count": 19,
      "outputs": [
        {
          "output_type": "stream",
          "name": "stdout",
          "text": [
            "deque([])\n"
          ]
        },
        {
          "output_type": "execute_result",
          "data": {
            "text/plain": [
              "deque([10, 20])"
            ]
          },
          "metadata": {},
          "execution_count": 19
        }
      ]
    },
    {
      "cell_type": "code",
      "source": [
        "import queue\n",
        "stack=queue.LifoQueue(3)\n",
        "stack.put(10)\n",
        "stack.put(20)\n",
        "stack.put(30)\n",
        "stack.get(timeout=1)\n"
      ],
      "metadata": {
        "id": "31Ywldm3UPjd"
      },
      "execution_count": null,
      "outputs": []
    },
    {
      "cell_type": "markdown",
      "source": [
        "**Queue**"
      ],
      "metadata": {
        "id": "GSLdA5fMVbP9"
      }
    },
    {
      "cell_type": "code",
      "source": [
        ""
      ],
      "metadata": {
        "id": "1_KzO5iZVefU"
      },
      "execution_count": null,
      "outputs": []
    }
  ]
}